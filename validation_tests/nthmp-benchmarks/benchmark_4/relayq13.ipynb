{
 "cells": [
  {
   "cell_type": "code",
   "execution_count": 1,
   "metadata": {
    "collapsed": false
   },
   "outputs": [
    {
     "name": "stdout",
     "output_type": "stream",
     "text": [
      "2520\n"
     ]
    }
   ],
   "source": [
    "count = 0\n",
    "for i0 in range(10):\n",
    "    for i1 in range(10):\n",
    "        for i2 in range(10):\n",
    "            for i3 in range(10):\n",
    "                if i0 == i1:\n",
    "                    if not i1 == i2:\n",
    "                        #print i0,i1,i2,i3\n",
    "                        count = count + 1\n",
    "                elif i1 == i2:\n",
    "                    if i0 == i1 or i2 == i3:\n",
    "                        pass\n",
    "                    else:\n",
    "                        #print i0,i1,i2,i3\n",
    "                        count = count + 1\n",
    "                elif i2 == i3:\n",
    "                    if i1 == i2:\n",
    "                        pass\n",
    "                    else:\n",
    "                        #print i0,i1,i2,i3\n",
    "                        count = count + 1\n",
    "\n",
    "\n",
    "print count"
   ]
  },
  {
   "cell_type": "code",
   "execution_count": null,
   "metadata": {
    "collapsed": true
   },
   "outputs": [],
   "source": []
  }
 ],
 "metadata": {
  "kernelspec": {
   "display_name": "Python 2",
   "language": "python",
   "name": "python2"
  },
  "language_info": {
   "codemirror_mode": {
    "name": "ipython",
    "version": 2
   },
   "file_extension": ".py",
   "mimetype": "text/x-python",
   "name": "python",
   "nbconvert_exporter": "python",
   "pygments_lexer": "ipython2",
   "version": "2.7.6"
  }
 },
 "nbformat": 4,
 "nbformat_minor": 2
}
